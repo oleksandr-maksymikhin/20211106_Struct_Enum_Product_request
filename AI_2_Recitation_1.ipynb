{
  "nbformat": 4,
  "nbformat_minor": 0,
  "metadata": {
    "colab": {
      "provenance": [],
      "include_colab_link": true
    },
    "kernelspec": {
      "name": "python3",
      "display_name": "Python 3"
    },
    "language_info": {
      "name": "python"
    }
  },
  "cells": [
    {
      "cell_type": "markdown",
      "metadata": {
        "id": "view-in-github",
        "colab_type": "text"
      },
      "source": [
        "<a href=\"https://colab.research.google.com/github/oleksandr-maksymikhin/20211106_Struct_Enum_Product_request/blob/master/AI_2_Recitation_1.ipynb\" target=\"_parent\"><img src=\"https://colab.research.google.com/assets/colab-badge.svg\" alt=\"Open In Colab\"/></a>"
      ]
    },
    {
      "cell_type": "markdown",
      "source": [
        "# Part I: Logistic Regression\n",
        "\n",
        "\n",
        "![newsgroups_minimality_not_normalized.png](data:data:image/jpeg;base64,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)\n",
        "\n",
        "\n",
        "# Introduction\n",
        "\n",
        "### Task Description\n",
        "\n",
        "The **World Health Organization (WHO)** estimates that 12 million people die annually due to heart disease. In the United States and other developed nations, cardiovascular diseases account for fifty percent of all deaths. The early prognosis of cardiovascular disease might help high-risk individuals make decisions regarding lifestyle adjustments, thereby reducing medical problems. This study aims to identify the most significant heart disease risk variables and forecast the overall risk using logistic regression.\n",
        "\n",
        "### **Pipeline**:\n",
        "1. Exploration of the Dataset. Load the .csv and visualize the structure of it.\n",
        "2. Define a Simple Classifier. Then we will build a simple classifer for predicting the 10 year risk of coronary heart disease (CHD). This will be the baseline.\n",
        "3. Data Exploration. Let's now train a model. The first step is to prepare the data used by the training algorithm.\n",
        "4. Training. Define the Logistic Regression Model and train it.\n",
        "5. Evaluate the classifier.\n",
        "6. Visualise the results.\n",
        "\n",
        "\n",
        "### Dataset\n",
        "The dataset is accessible to the public on the Kaggle website and comes from an ongoing cardiovascular research of Framingham, Massachusetts people. The objective of classification is to determine whether a patient has a 10-year risk of developing coronary heart disease (CHD). The dataset contains information on patients. It has 3,658 records and 16 attribute. Each attribute is a possible risk factor. There are both demographic and behavioral risk factors, as well as medical ones.\n",
        "\n",
        "#### **Attributes**:\n",
        "\n",
        "* **Demographic**:\n",
        "    * Sex: male or female (Nominal)\n",
        "    * Age: Age of the patient;(Continuous - Although the recorded ages have been truncated to whole numbers, the concept of age is continuous)\n",
        "    * Education: no further information provided\n",
        "\n",
        "    \n",
        "* **Behavioral**:\n",
        "    * Current Smoker: whether or not the patient is a current smoker (Nominal)\n",
        "    * Cigs Per Day: the number of cigarettes that the person smoked on average in one day.(can be considered continuous as one can have any number of cigarettes, even half a cigarette.)\n",
        "* **Information on medical history**:\n",
        "    * BP Meds: whether or not the patient was on blood pressure medication (Nominal)\n",
        "    * Prevalent Stroke: whether or not the patient had previously had a stroke (Nominal)\n",
        "    * Prevalent Hyp: whether or not the patient was hypertensive (Nominal)\n",
        "    * Diabetes: whether or not the patient had diabetes (Nominal)\n",
        "\n",
        "\n",
        "* **Information on current medical condition**:\n",
        "    * Tot Chol: total cholesterol level (Continuous)\n",
        "    * Sys BP: systolic blood pressure (Continuous)\n",
        "    * Dia BP: diastolic blood pressure (Continuous)\n",
        "    * BMI: Body Mass Index (Continuous)\n",
        "    * Heart Rate: heart rate (Continuous - In medical research, variables such as heart rate though in fact discrete, yet are considered continuous because of large number of possible values.)\n",
        "    * Glucose: glucose level (Continuous)\n",
        "\n",
        "\n",
        "* **Target variable to predict**:\n",
        "    * 10 year risk of coronary heart disease (CHD) - (binary: “1”, means “Yes”, “0” means “No”)"
      ],
      "metadata": {
        "id": "264-dr3aNvTr"
      }
    },
    {
      "cell_type": "markdown",
      "source": [
        "\n",
        "### Step 1: Data Exploration\n",
        "Navigate to the directory containing the file containing the data: framingham.csv"
      ],
      "metadata": {
        "id": "Ao3OaukXo_ct"
      }
    },
    {
      "cell_type": "markdown",
      "source": [
        "#### Load the Data"
      ],
      "metadata": {
        "id": "2X1NARDx2Kin"
      }
    },
    {
      "cell_type": "code",
      "execution_count": null,
      "metadata": {
        "id": "E2-pM5cJNrpn"
      },
      "outputs": [],
      "source": [
        "import pandas as pd\n",
        "framingham = pd.read_csv(\"framingham.csv\") # load the dataset"
      ]
    },
    {
      "cell_type": "code",
      "source": [
        "framingham.head() # using the method head"
      ],
      "metadata": {
        "colab": {
          "base_uri": "https://localhost:8080/",
          "height": 285
        },
        "id": "OqXG6BtTOI0p",
        "outputId": "ea87775b-8146-48f9-b652-9dd27bb09f24"
      },
      "execution_count": null,
      "outputs": [
        {
          "output_type": "execute_result",
          "data": {
            "text/plain": [
              "   Unnamed: 0  male  age  education  currentSmoker  cigsPerDay  BPMeds  \\\n",
              "0           1     1   39          4              0           0       0   \n",
              "1           2     0   46          2              0           0       0   \n",
              "2           3     1   48          1              1          20       0   \n",
              "3           4     0   61          3              1          30       0   \n",
              "4           5     0   46          3              1          23       0   \n",
              "\n",
              "   prevalentStroke  prevalentHyp  diabetes  totChol  sysBP  diaBP    BMI  \\\n",
              "0                0             0         0      195  106.0   70.0  26.97   \n",
              "1                0             0         0      250  121.0   81.0  28.73   \n",
              "2                0             0         0      245  127.5   80.0  25.34   \n",
              "3                0             1         0      225  150.0   95.0  28.58   \n",
              "4                0             0         0      285  130.0   84.0  23.10   \n",
              "\n",
              "   heartRate  glucose  TenYearCHD  \n",
              "0         80       77           0  \n",
              "1         95       76           0  \n",
              "2         75       70           0  \n",
              "3         65      103           1  \n",
              "4         85       85           0  "
            ],
            "text/html": [
              "\n",
              "  <div id=\"df-1ea0dc09-61e6-4540-ad14-1c22332291e0\">\n",
              "    <div class=\"colab-df-container\">\n",
              "      <div>\n",
              "<style scoped>\n",
              "    .dataframe tbody tr th:only-of-type {\n",
              "        vertical-align: middle;\n",
              "    }\n",
              "\n",
              "    .dataframe tbody tr th {\n",
              "        vertical-align: top;\n",
              "    }\n",
              "\n",
              "    .dataframe thead th {\n",
              "        text-align: right;\n",
              "    }\n",
              "</style>\n",
              "<table border=\"1\" class=\"dataframe\">\n",
              "  <thead>\n",
              "    <tr style=\"text-align: right;\">\n",
              "      <th></th>\n",
              "      <th>Unnamed: 0</th>\n",
              "      <th>male</th>\n",
              "      <th>age</th>\n",
              "      <th>education</th>\n",
              "      <th>currentSmoker</th>\n",
              "      <th>cigsPerDay</th>\n",
              "      <th>BPMeds</th>\n",
              "      <th>prevalentStroke</th>\n",
              "      <th>prevalentHyp</th>\n",
              "      <th>diabetes</th>\n",
              "      <th>totChol</th>\n",
              "      <th>sysBP</th>\n",
              "      <th>diaBP</th>\n",
              "      <th>BMI</th>\n",
              "      <th>heartRate</th>\n",
              "      <th>glucose</th>\n",
              "      <th>TenYearCHD</th>\n",
              "    </tr>\n",
              "  </thead>\n",
              "  <tbody>\n",
              "    <tr>\n",
              "      <th>0</th>\n",
              "      <td>1</td>\n",
              "      <td>1</td>\n",
              "      <td>39</td>\n",
              "      <td>4</td>\n",
              "      <td>0</td>\n",
              "      <td>0</td>\n",
              "      <td>0</td>\n",
              "      <td>0</td>\n",
              "      <td>0</td>\n",
              "      <td>0</td>\n",
              "      <td>195</td>\n",
              "      <td>106.0</td>\n",
              "      <td>70.0</td>\n",
              "      <td>26.97</td>\n",
              "      <td>80</td>\n",
              "      <td>77</td>\n",
              "      <td>0</td>\n",
              "    </tr>\n",
              "    <tr>\n",
              "      <th>1</th>\n",
              "      <td>2</td>\n",
              "      <td>0</td>\n",
              "      <td>46</td>\n",
              "      <td>2</td>\n",
              "      <td>0</td>\n",
              "      <td>0</td>\n",
              "      <td>0</td>\n",
              "      <td>0</td>\n",
              "      <td>0</td>\n",
              "      <td>0</td>\n",
              "      <td>250</td>\n",
              "      <td>121.0</td>\n",
              "      <td>81.0</td>\n",
              "      <td>28.73</td>\n",
              "      <td>95</td>\n",
              "      <td>76</td>\n",
              "      <td>0</td>\n",
              "    </tr>\n",
              "    <tr>\n",
              "      <th>2</th>\n",
              "      <td>3</td>\n",
              "      <td>1</td>\n",
              "      <td>48</td>\n",
              "      <td>1</td>\n",
              "      <td>1</td>\n",
              "      <td>20</td>\n",
              "      <td>0</td>\n",
              "      <td>0</td>\n",
              "      <td>0</td>\n",
              "      <td>0</td>\n",
              "      <td>245</td>\n",
              "      <td>127.5</td>\n",
              "      <td>80.0</td>\n",
              "      <td>25.34</td>\n",
              "      <td>75</td>\n",
              "      <td>70</td>\n",
              "      <td>0</td>\n",
              "    </tr>\n",
              "    <tr>\n",
              "      <th>3</th>\n",
              "      <td>4</td>\n",
              "      <td>0</td>\n",
              "      <td>61</td>\n",
              "      <td>3</td>\n",
              "      <td>1</td>\n",
              "      <td>30</td>\n",
              "      <td>0</td>\n",
              "      <td>0</td>\n",
              "      <td>1</td>\n",
              "      <td>0</td>\n",
              "      <td>225</td>\n",
              "      <td>150.0</td>\n",
              "      <td>95.0</td>\n",
              "      <td>28.58</td>\n",
              "      <td>65</td>\n",
              "      <td>103</td>\n",
              "      <td>1</td>\n",
              "    </tr>\n",
              "    <tr>\n",
              "      <th>4</th>\n",
              "      <td>5</td>\n",
              "      <td>0</td>\n",
              "      <td>46</td>\n",
              "      <td>3</td>\n",
              "      <td>1</td>\n",
              "      <td>23</td>\n",
              "      <td>0</td>\n",
              "      <td>0</td>\n",
              "      <td>0</td>\n",
              "      <td>0</td>\n",
              "      <td>285</td>\n",
              "      <td>130.0</td>\n",
              "      <td>84.0</td>\n",
              "      <td>23.10</td>\n",
              "      <td>85</td>\n",
              "      <td>85</td>\n",
              "      <td>0</td>\n",
              "    </tr>\n",
              "  </tbody>\n",
              "</table>\n",
              "</div>\n",
              "      <button class=\"colab-df-convert\" onclick=\"convertToInteractive('df-1ea0dc09-61e6-4540-ad14-1c22332291e0')\"\n",
              "              title=\"Convert this dataframe to an interactive table.\"\n",
              "              style=\"display:none;\">\n",
              "        \n",
              "  <svg xmlns=\"http://www.w3.org/2000/svg\" height=\"24px\"viewBox=\"0 0 24 24\"\n",
              "       width=\"24px\">\n",
              "    <path d=\"M0 0h24v24H0V0z\" fill=\"none\"/>\n",
              "    <path d=\"M18.56 5.44l.94 2.06.94-2.06 2.06-.94-2.06-.94-.94-2.06-.94 2.06-2.06.94zm-11 1L8.5 8.5l.94-2.06 2.06-.94-2.06-.94L8.5 2.5l-.94 2.06-2.06.94zm10 10l.94 2.06.94-2.06 2.06-.94-2.06-.94-.94-2.06-.94 2.06-2.06.94z\"/><path d=\"M17.41 7.96l-1.37-1.37c-.4-.4-.92-.59-1.43-.59-.52 0-1.04.2-1.43.59L10.3 9.45l-7.72 7.72c-.78.78-.78 2.05 0 2.83L4 21.41c.39.39.9.59 1.41.59.51 0 1.02-.2 1.41-.59l7.78-7.78 2.81-2.81c.8-.78.8-2.07 0-2.86zM5.41 20L4 18.59l7.72-7.72 1.47 1.35L5.41 20z\"/>\n",
              "  </svg>\n",
              "      </button>\n",
              "      \n",
              "  <style>\n",
              "    .colab-df-container {\n",
              "      display:flex;\n",
              "      flex-wrap:wrap;\n",
              "      gap: 12px;\n",
              "    }\n",
              "\n",
              "    .colab-df-convert {\n",
              "      background-color: #E8F0FE;\n",
              "      border: none;\n",
              "      border-radius: 50%;\n",
              "      cursor: pointer;\n",
              "      display: none;\n",
              "      fill: #1967D2;\n",
              "      height: 32px;\n",
              "      padding: 0 0 0 0;\n",
              "      width: 32px;\n",
              "    }\n",
              "\n",
              "    .colab-df-convert:hover {\n",
              "      background-color: #E2EBFA;\n",
              "      box-shadow: 0px 1px 2px rgba(60, 64, 67, 0.3), 0px 1px 3px 1px rgba(60, 64, 67, 0.15);\n",
              "      fill: #174EA6;\n",
              "    }\n",
              "\n",
              "    [theme=dark] .colab-df-convert {\n",
              "      background-color: #3B4455;\n",
              "      fill: #D2E3FC;\n",
              "    }\n",
              "\n",
              "    [theme=dark] .colab-df-convert:hover {\n",
              "      background-color: #434B5C;\n",
              "      box-shadow: 0px 1px 3px 1px rgba(0, 0, 0, 0.15);\n",
              "      filter: drop-shadow(0px 1px 2px rgba(0, 0, 0, 0.3));\n",
              "      fill: #FFFFFF;\n",
              "    }\n",
              "  </style>\n",
              "\n",
              "      <script>\n",
              "        const buttonEl =\n",
              "          document.querySelector('#df-1ea0dc09-61e6-4540-ad14-1c22332291e0 button.colab-df-convert');\n",
              "        buttonEl.style.display =\n",
              "          google.colab.kernel.accessAllowed ? 'block' : 'none';\n",
              "\n",
              "        async function convertToInteractive(key) {\n",
              "          const element = document.querySelector('#df-1ea0dc09-61e6-4540-ad14-1c22332291e0');\n",
              "          const dataTable =\n",
              "            await google.colab.kernel.invokeFunction('convertToInteractive',\n",
              "                                                     [key], {});\n",
              "          if (!dataTable) return;\n",
              "\n",
              "          const docLinkHtml = 'Like what you see? Visit the ' +\n",
              "            '<a target=\"_blank\" href=https://colab.research.google.com/notebooks/data_table.ipynb>data table notebook</a>'\n",
              "            + ' to learn more about interactive tables.';\n",
              "          element.innerHTML = '';\n",
              "          dataTable['output_type'] = 'display_data';\n",
              "          await google.colab.output.renderOutput(dataTable, element);\n",
              "          const docLink = document.createElement('div');\n",
              "          docLink.innerHTML = docLinkHtml;\n",
              "          element.appendChild(docLink);\n",
              "        }\n",
              "      </script>\n",
              "    </div>\n",
              "  </div>\n",
              "  "
            ]
          },
          "metadata": {},
          "execution_count": 3
        }
      ]
    },
    {
      "cell_type": "markdown",
      "source": [
        "How many patients experienced CHD within 10 years of the first exam? Use the hist function."
      ],
      "metadata": {
        "id": "A2CpBOp8ptUa"
      }
    },
    {
      "cell_type": "code",
      "source": [
        "framingham[\"TenYearCHD\"].hist()"
      ],
      "metadata": {
        "colab": {
          "base_uri": "https://localhost:8080/",
          "height": 282
        },
        "id": "UhSc0UbROVkV",
        "outputId": "5c9cd07f-1c8b-4aa2-8e85-468f90bf3ad3"
      },
      "execution_count": null,
      "outputs": [
        {
          "output_type": "execute_result",
          "data": {
            "text/plain": [
              "<matplotlib.axes._subplots.AxesSubplot at 0x7ffaabcfdd90>"
            ]
          },
          "metadata": {},
          "execution_count": 4
        },
        {
          "output_type": "display_data",
          "data": {
            "text/plain": [
              "<Figure size 432x288 with 1 Axes>"
            ],
            "image/png": "[encoded data removed]"
          },
          "metadata": {
            "needs_background": "light"
          }
        }
      ]
    },
    {
      "cell_type": "code",
      "source": [
        "import matplotlib.pyplot as plt\n",
        "# checking distributions using histograms\n",
        "fig = plt.figure(figsize = (15,20))\n",
        "ax = fig.gca()\n",
        "framingham.hist(ax = ax)"
      ],
      "metadata": {
        "colab": {
          "base_uri": "https://localhost:8080/",
          "height": 1000
        },
        "id": "Nus0Nf7ZpwJW",
        "outputId": "b19746ea-56f0-47fb-9d77-99a0ada3a6c8"
      },
      "execution_count": null,
      "outputs": [
        {
          "output_type": "stream",
          "name": "stderr",
          "text": [
            "<ipython-input-5-53220807bbce>:5: UserWarning: To output multiple subplots, the figure containing the passed axes is being cleared\n",
            "  framingham.hist(ax = ax)\n"
          ]
        },
        {
          "output_type": "execute_result",
          "data": {
            "text/plain": [
              "array([[<matplotlib.axes._subplots.AxesSubplot object at 0x7ffaabc54b80>,\n",
              "        <matplotlib.axes._subplots.AxesSubplot object at 0x7ffaab78cdc0>,\n",
              "        <matplotlib.axes._subplots.AxesSubplot object at 0x7ffaab746220>,\n",
              "        <matplotlib.axes._subplots.AxesSubplot object at 0x7ffaab6f3610>],\n",
              "       [<matplotlib.axes._subplots.AxesSubplot object at 0x7ffaab71cc70>,\n",
              "        <matplotlib.axes._subplots.AxesSubplot object at 0x7ffaab6ca130>,\n",
              "        <matplotlib.axes._subplots.AxesSubplot object at 0x7ffaab6d6100>,\n",
              "        <matplotlib.axes._subplots.AxesSubplot object at 0x7ffaab683580>],\n",
              "       [<matplotlib.axes._subplots.AxesSubplot object at 0x7ffaab65cd00>,\n",
              "        <matplotlib.axes._subplots.AxesSubplot object at 0x7ffaab619190>,\n",
              "        <matplotlib.axes._subplots.AxesSubplot object at 0x7ffaab5c45b0>,\n",
              "        <matplotlib.axes._subplots.AxesSubplot object at 0x7ffaab5749a0>],\n",
              "       [<matplotlib.axes._subplots.AxesSubplot object at 0x7ffaab5a2df0>,\n",
              "        <matplotlib.axes._subplots.AxesSubplot object at 0x7ffaab55d220>,\n",
              "        <matplotlib.axes._subplots.AxesSubplot object at 0x7ffaab509640>,\n",
              "        <matplotlib.axes._subplots.AxesSubplot object at 0x7ffaab4b8a60>],\n",
              "       [<matplotlib.axes._subplots.AxesSubplot object at 0x7ffaab468f40>,\n",
              "        <matplotlib.axes._subplots.AxesSubplot object at 0x7ffaab4a22b0>,\n",
              "        <matplotlib.axes._subplots.AxesSubplot object at 0x7ffaab443760>,\n",
              "        <matplotlib.axes._subplots.AxesSubplot object at 0x7ffaab3f0b50>]],\n",
              "      dtype=object)"
            ]
          },
          "metadata": {},
          "execution_count": 5
        },
        {
          "output_type": "display_data",
          "data": {
            "text/plain": [
              "<Figure size 1080x1440 with 20 Axes>"
            ],
            "image/png": "[encoded data removed]"
          },
          "metadata": {
            "needs_background": "light"
          }
        }
      ]
    },
    {
      "cell_type": "markdown",
      "source": [
        "### Simple Clssifier\n",
        "\n",
        "The vast majority did not experience CHD. Simple baseline method - **always predict 0**!\n",
        "\n",
        "\n",
        "Accuracy:"
      ],
      "metadata": {
        "id": "4Q8obbb5z-hp"
      }
    },
    {
      "cell_type": "code",
      "source": [
        "3101/(3101+557)"
      ],
      "metadata": {
        "colab": {
          "base_uri": "https://localhost:8080/"
        },
        "id": "uHcEAz5Tp0rw",
        "outputId": "adc9a6d0-547b-495e-c725-79cbf6bb4acd"
      },
      "execution_count": null,
      "outputs": [
        {
          "output_type": "execute_result",
          "data": {
            "text/plain": [
              "0.8477310005467469"
            ]
          },
          "metadata": {},
          "execution_count": 6
        }
      ]
    },
    {
      "cell_type": "markdown",
      "source": [
        "*This* is what we will compare the accuracy of our models to. For linear regression, a simple baseline is built into **R-squared**.\n",
        "\n",
        "In some applications, a more intelligent baseline method is better. How about if we predict 1 (CHD) if the person is currently hypertensive, and predict 0 otherwise?\n",
        "\n",
        "We'll see how well this does using a 2D table!"
      ],
      "metadata": {
        "id": "nkNJgZzL0CMS"
      }
    },
    {
      "cell_type": "code",
      "source": [
        "from sklearn.metrics import confusion_matrix\n",
        "\n",
        "confusion_matrix(framingham[\"TenYearCHD\"], framingham[\"prevalentHyp\"])"
      ],
      "metadata": {
        "colab": {
          "base_uri": "https://localhost:8080/"
        },
        "id": "bYBiWfVv0AfL",
        "outputId": "7c3c000e-7074-4541-b7fa-237dec122cb7"
      },
      "execution_count": null,
      "outputs": [
        {
          "output_type": "execute_result",
          "data": {
            "text/plain": [
              "array([[2245,  856],\n",
              "       [ 273,  284]])"
            ]
          },
          "metadata": {},
          "execution_count": 7
        }
      ]
    },
    {
      "cell_type": "code",
      "source": [
        "(2245+284)/(2245+856+273+284)"
      ],
      "metadata": {
        "colab": {
          "base_uri": "https://localhost:8080/"
        },
        "id": "ZDp2OUpu0D3W",
        "outputId": "391534e8-eddc-429e-d6c3-fde4ad370b2a"
      },
      "execution_count": null,
      "outputs": [
        {
          "output_type": "execute_result",
          "data": {
            "text/plain": [
              "0.6913613996719519"
            ]
          },
          "metadata": {},
          "execution_count": 8
        }
      ]
    },
    {
      "cell_type": "markdown",
      "source": [
        "shortcut"
      ],
      "metadata": {
        "id": "AwjNIgJc2W38"
      }
    },
    {
      "cell_type": "code",
      "source": [
        "(2245+284)/len(framingham)"
      ],
      "metadata": {
        "colab": {
          "base_uri": "https://localhost:8080/"
        },
        "id": "aWpj2A3D2WRL",
        "outputId": "1a3115c0-5349-4eac-debf-99e41503018d"
      },
      "execution_count": null,
      "outputs": [
        {
          "output_type": "execute_result",
          "data": {
            "text/plain": [
              "0.6913613996719519"
            ]
          },
          "metadata": {},
          "execution_count": 9
        }
      ]
    },
    {
      "cell_type": "markdown",
      "source": [
        "#### Can other attributes predict this index more precisely?\n",
        "\n",
        "- male 0.5718972115910333\n",
        "- currentSmoker 0.5144887916894478\n",
        "- BPMeds 0.8376161837069437\n",
        "- prevalentStroke 0.846364133406233\n",
        "- prevalentHyp 0.6913613996719519\n",
        "- diabetes 0.839803171131766"
      ],
      "metadata": {
        "id": "LeHmSAXN3OhF"
      }
    },
    {
      "cell_type": "markdown",
      "source": [
        "### Data Processing\n",
        "Now, let's split our data into a training set and a testing set using train_test_spit.\n",
        "Why is it important to have a training set and a testing set?\n",
        "\n",
        "\n",
        "Set our seed (random state) so we all get the same split!\n",
        "\n",
        "\n",
        "You typically want to put somewhere between **50%** and **80%** of the data in the training set.\n"
      ],
      "metadata": {
        "id": "KISKOvjk0HkC"
      }
    },
    {
      "cell_type": "code",
      "source": [
        "from sklearn.model_selection import train_test_split\n",
        "\n",
        "train, test = train_test_split(framingham, test_size=0.35, random_state=88)"
      ],
      "metadata": {
        "id": "B-ieQkW60FxK"
      },
      "execution_count": null,
      "outputs": []
    },
    {
      "cell_type": "code",
      "source": [
        "import statsmodels.api as sm\n",
        "\n",
        "framinghamLog = sm.formula.glm(\"TenYearCHD ~ male + age + education + currentSmoker + cigsPerDay + BPMeds + prevalentStroke + prevalentHyp + diabetes + totChol + sysBP + diaBP + BMI + heartRate + glucose\",\n",
        "                       family=sm.families.Binomial(),\n",
        "                       data=train).fit()\n",
        "print(framinghamLog.summary())"
      ],
      "metadata": {
        "colab": {
          "base_uri": "https://localhost:8080/"
        },
        "id": "10_FEhyO0JKy",
        "outputId": "9aa2fa9b-21a7-4553-b016-8740886df5ca"
      },
      "execution_count": null,
      "outputs": [
        {
          "output_type": "stream",
          "name": "stdout",
          "text": [
            "                 Generalized Linear Model Regression Results                  \n",
            "==============================================================================\n",
            "Dep. Variable:             TenYearCHD   No. Observations:                 2377\n",
            "Model:                            GLM   Df Residuals:                     2361\n",
            "Model Family:                Binomial   Df Model:                           15\n",
            "Link Function:                  logit   Scale:                          1.0000\n",
            "Method:                          IRLS   Log-Likelihood:                -906.78\n",
            "Date:                Sat, 28 Jan 2023   Deviance:                       1813.6\n",
            "Time:                        10:23:57   Pearson chi2:                 2.36e+03\n",
            "No. Iterations:                     5                                         \n",
            "Covariance Type:            nonrobust                                         \n",
            "===================================================================================\n",
            "                      coef    std err          z      P>|z|      [0.025      0.975]\n",
            "-----------------------------------------------------------------------------------\n",
            "Intercept          -6.9052      0.869     -7.947      0.000      -8.608      -5.202\n",
            "male                0.5545      0.132      4.189      0.000       0.295       0.814\n",
            "age                 0.0557      0.008      6.889      0.000       0.040       0.072\n",
            "education          -0.0813      0.062     -1.304      0.192      -0.203       0.041\n",
            "currentSmoker       0.0357      0.194      0.184      0.854      -0.345       0.416\n",
            "cigsPerDay          0.0142      0.008      1.778      0.075      -0.001       0.030\n",
            "BPMeds              0.1076      0.301      0.357      0.721      -0.483       0.698\n",
            "prevalentStroke     0.0820      0.710      0.116      0.908      -1.309       1.473\n",
            "prevalentHyp        0.4495      0.170      2.642      0.008       0.116       0.783\n",
            "diabetes            0.4038      0.400      1.009      0.313      -0.381       1.189\n",
            "totChol             0.0007      0.001      0.494      0.621      -0.002       0.003\n",
            "sysBP               0.0150      0.005      3.175      0.001       0.006       0.024\n",
            "diaBP              -0.0060      0.008     -0.781      0.435      -0.021       0.009\n",
            "BMI                 0.0116      0.016      0.740      0.459      -0.019       0.042\n",
            "heartRate          -0.0069      0.005     -1.302      0.193      -0.017       0.003\n",
            "glucose             0.0047      0.003      1.753      0.080      -0.001       0.010\n",
            "===================================================================================\n"
          ]
        }
      ]
    },
    {
      "cell_type": "markdown",
      "source": [
        "### Test\n",
        "\n",
        "Now, lets use this model to make predictions on our test set:"
      ],
      "metadata": {
        "id": "v-y66M7r0OYh"
      }
    },
    {
      "cell_type": "code",
      "source": [
        "predictTestProbs = framinghamLog.predict(test)\n",
        "predictTest = [0 if i <0.5 else 1 for i in predictTestProbs]"
      ],
      "metadata": {
        "id": "kDVmfvfU0MGa"
      },
      "execution_count": null,
      "outputs": []
    },
    {
      "cell_type": "code",
      "source": [
        "confusion_matrix(test[\"TenYearCHD\"].tolist(), predictTest)"
      ],
      "metadata": {
        "colab": {
          "base_uri": "https://localhost:8080/"
        },
        "id": "mvkYHTT50P7J",
        "outputId": "cf448be5-e004-4cbf-f61e-b08fb379cc24"
      },
      "execution_count": null,
      "outputs": [
        {
          "output_type": "execute_result",
          "data": {
            "text/plain": [
              "array([[1079,   10],\n",
              "       [ 169,   23]])"
            ]
          },
          "metadata": {},
          "execution_count": 12
        }
      ]
    },
    {
      "cell_type": "markdown",
      "source": [
        "With a threshold of 0.5, we predict an outcome of 1 very rarely. This means that our model rarely predicts a Ten Year CHD risk above 50%.\n",
        "\n",
        "What is our accuracy?"
      ],
      "metadata": {
        "id": "anWbhNn_0S0X"
      }
    },
    {
      "cell_type": "code",
      "source": [
        "(1079+23)/(1079+10+169+23)"
      ],
      "metadata": {
        "colab": {
          "base_uri": "https://localhost:8080/"
        },
        "id": "gsVlYZAZ0RIn",
        "outputId": "cb86d9d7-2205-42b9-d4d6-b8c61a113c9a"
      },
      "execution_count": null,
      "outputs": [
        {
          "output_type": "execute_result",
          "data": {
            "text/plain": [
              "0.8602654176424668"
            ]
          },
          "metadata": {},
          "execution_count": 13
        }
      ]
    },
    {
      "cell_type": "markdown",
      "source": [
        "Shortcut"
      ],
      "metadata": {
        "id": "7KGjWMR_0WZi"
      }
    },
    {
      "cell_type": "code",
      "source": [
        "(1079+23)/len(predictTest)"
      ],
      "metadata": {
        "colab": {
          "base_uri": "https://localhost:8080/"
        },
        "id": "uG4wqNF-0UfK",
        "outputId": "27d13fc4-cd04-4030-a281-4c6ab7c4a83c"
      },
      "execution_count": null,
      "outputs": [
        {
          "output_type": "execute_result",
          "data": {
            "text/plain": [
              "0.8602654176424668"
            ]
          },
          "metadata": {},
          "execution_count": 14
        }
      ]
    },
    {
      "cell_type": "markdown",
      "source": [
        "So our model barely beats the baseline. But do we still have a valuable model by varying the threshold? Let's create an ROC curve for the test set."
      ],
      "metadata": {
        "id": "Yohs55l10Zo0"
      }
    },
    {
      "cell_type": "markdown",
      "source": [
        "### ROC Curve\n",
        "\n",
        "So our model barely beats the baseline. But do we still have a valuable model by varying the threshold?\n",
        "\n",
        "#### What ROC Curve shows?\n",
        "\n",
        "A Receiver Operating Characteristic (ROC) curve is a graphical representation of the performance of a binary classifier system. The ROC curve plots the true positive rate (TPR) against the false positive rate (FPR) at various threshold settings.\n",
        "\n",
        "The true positive rate is the proportion of actual positive cases that are correctly identified as such (also known as sensitivity or recall). The false positive rate is the proportion of actual negative cases that are incorrectly identified as positive (also known as the fall-out).\n",
        "\n",
        "The ROC curve shows the trade-off between the true positive rate and the false positive rate for different threshold settings of a binary classifier. A classifier that makes no mistakes will have a ROC curve that passes through the upper left corner of the plot (i.e., an AUC of 1), whereas a classifier that is no better than random guessing will have a ROC curve that is a diagonal line (i.e., an AUC of 0.5).\n",
        "\n",
        "ROC curve is a powerful tool to evaluate the performance of a classifier, as it shows the trade-off between the true positive rate and the false positive rate, and it allows us to visualize the performance of the classifier across a range of threshold settings.\n",
        "\n",
        "\n",
        "\n",
        "Let's create an ROC curve for the test set."
      ],
      "metadata": {
        "id": "MyDNWIZ50b_X"
      }
    },
    {
      "cell_type": "code",
      "source": [
        "import numpy as np\n",
        "from sklearn.metrics import roc_curve, auc, roc_auc_score\n",
        "import matplotlib\n",
        "\n",
        "# Compute ROC curve and ROC area\n",
        "fpr, tpr, thresholds = roc_curve(test[\"TenYearCHD\"].tolist(),  predictTestProbs)\n",
        "roc_auc = auc(fpr, tpr)\n",
        "\n",
        "# Plot ROC curve\n",
        "plt.plot(fpr, tpr)\n",
        "plt.xlabel('False Positive Rate')\n",
        "plt.ylabel('True Positive Rate')\n",
        "plt.title('Receiver operating characteristic')\n",
        "\n",
        "# Add cutoffs\n",
        "cutoffs = np.arange(0,1.1,0.1)\n",
        "for c in cutoffs:\n",
        "    plt.annotate('%.1f' % c, (fpr[thresholds > c][-1], tpr[thresholds > c][-1]), textcoords='offset points', xytext=(-8,8), ha='center', fontsize=10)\n",
        "plt.show()"
      ],
      "metadata": {
        "colab": {
          "base_uri": "https://localhost:8080/",
          "height": 295
        },
        "id": "N13fpw1Z8K_W",
        "outputId": "c88e4e4e-9f2e-44dd-ea54-a7ca5d650237"
      },
      "execution_count": null,
      "outputs": [
        {
          "output_type": "display_data",
          "data": {
            "text/plain": [
              "<Figure size 432x288 with 1 Axes>"
            ],
            "image/png": "[encoded data removed]"
          },
          "metadata": {
            "needs_background": "light"
          }
        }
      ]
    },
    {
      "cell_type": "markdown",
      "source": [
        "It looks like we do have a good model!\n",
        "\n",
        "Let's compute the out-of-sample AUC.\n"
      ],
      "metadata": {
        "id": "y-0F6eUZ0jgF"
      }
    },
    {
      "cell_type": "code",
      "source": [
        "roc_auc_score(test[\"TenYearCHD\"].tolist(),  predictTestProbs)"
      ],
      "metadata": {
        "colab": {
          "base_uri": "https://localhost:8080/"
        },
        "id": "JnyG7PbI0hAP",
        "outputId": "369c2380-6911-411e-baf7-73bbb16e39e8"
      },
      "execution_count": null,
      "outputs": [
        {
          "output_type": "execute_result",
          "data": {
            "text/plain": [
              "0.736192416590144"
            ]
          },
          "metadata": {},
          "execution_count": 16
        }
      ]
    },
    {
      "cell_type": "markdown",
      "source": [
        "We have an AUC of 73% on our test set, which means that the model can differentiate between low-risk and high-risk patients pretty well."
      ],
      "metadata": {
        "id": "N5OA8uLK0nDs"
      }
    },
    {
      "cell_type": "markdown",
      "source": [
        "# Part II: Linear Regression"
      ],
      "metadata": {
        "id": "to61kY3iTUxm"
      }
    },
    {
      "cell_type": "code",
      "source": [
        "import pandas as pd\n",
        "# Read in the data file, make sure to upload the data files to the content\n",
        "# folder before you proceed.\n",
        "wine = pd.read_csv(\"wine.csv\")"
      ],
      "metadata": {
        "id": "auIar1H1SM7z"
      },
      "execution_count": null,
      "outputs": []
    },
    {
      "cell_type": "code",
      "source": [
        "# Look at the structure of the data:\n",
        "print(wine.info())"
      ],
      "metadata": {
        "colab": {
          "base_uri": "https://localhost:8080/"
        },
        "id": "R0j2eMvBSM-h",
        "outputId": "c5e7865e-b656-4cb1-f771-654bd8930ef0"
      },
      "execution_count": null,
      "outputs": [
        {
          "output_type": "stream",
          "name": "stdout",
          "text": [
            "<class 'pandas.core.frame.DataFrame'>\n",
            "RangeIndex: 25 entries, 0 to 24\n",
            "Data columns (total 6 columns):\n",
            " #   Column       Non-Null Count  Dtype  \n",
            "---  ------       --------------  -----  \n",
            " 0   Year         25 non-null     int64  \n",
            " 1   Price        25 non-null     float64\n",
            " 2   WinterRain   25 non-null     int64  \n",
            " 3   AGST         25 non-null     float64\n",
            " 4   HarvestRain  25 non-null     int64  \n",
            " 5   Age          25 non-null     int64  \n",
            "dtypes: float64(2), int64(4)\n",
            "memory usage: 1.3 KB\n",
            "None\n"
          ]
        }
      ]
    },
    {
      "cell_type": "code",
      "source": [
        "# Look at a statistical summary of the data:\n",
        "print(wine.describe())"
      ],
      "metadata": {
        "colab": {
          "base_uri": "https://localhost:8080/"
        },
        "id": "slGR-XMcTgYh",
        "outputId": "0f3611e0-069c-4b23-d06c-bdd1b62acafc"
      },
      "execution_count": null,
      "outputs": [
        {
          "output_type": "stream",
          "name": "stdout",
          "text": [
            "              Year      Price  WinterRain       AGST  HarvestRain        Age\n",
            "count    25.000000  25.000000   25.000000  25.000000    25.000000  25.000000\n",
            "mean   1965.800000   7.067224  605.280000  16.509336   148.560000  17.200000\n",
            "std       7.691987   0.650341  132.277965   0.675397    74.419464   7.691987\n",
            "min    1952.000000   6.204900  376.000000  14.983300    38.000000   5.000000\n",
            "25%    1960.000000   6.518800  536.000000  16.200000    89.000000  11.000000\n",
            "50%    1966.000000   7.121100  600.000000  16.533300   130.000000  17.000000\n",
            "75%    1972.000000   7.495000  697.000000  17.066700   187.000000  23.000000\n",
            "max    1978.000000   8.493700  830.000000  17.650000   292.000000  31.000000\n"
          ]
        }
      ]
    },
    {
      "cell_type": "code",
      "source": [
        "# BASIC DATA ANALYSIS\n",
        "\n",
        "# Access a variable in a DataFrame:\n",
        "print(wine['Year'][:5])\n",
        "print(wine['WinterRain'][:5])"
      ],
      "metadata": {
        "colab": {
          "base_uri": "https://localhost:8080/"
        },
        "id": "vneHuIXNT45N",
        "outputId": "eb4a0c30-8f83-452e-99de-2c3585aecf44"
      },
      "execution_count": null,
      "outputs": [
        {
          "output_type": "stream",
          "name": "stdout",
          "text": [
            "0    1952\n",
            "1    1953\n",
            "2    1955\n",
            "3    1957\n",
            "4    1958\n",
            "Name: Year, dtype: int64\n",
            "0    600\n",
            "1    690\n",
            "2    502\n",
            "3    420\n",
            "4    582\n",
            "Name: WinterRain, dtype: int64\n"
          ]
        }
      ]
    },
    {
      "cell_type": "code",
      "source": [
        "# Compute the mean:\n",
        "print(wine['WinterRain'].mean())\n",
        "\n",
        "# Standard deviation:\n",
        "print(wine['WinterRain'].std())\n",
        "\n",
        "# Minimum value:\n",
        "print(wine['WinterRain'].min())"
      ],
      "metadata": {
        "colab": {
          "base_uri": "https://localhost:8080/"
        },
        "id": "zqeDMyDbT7Zk",
        "outputId": "02a030bd-457f-4c7a-b463-fb63facc9a41"
      },
      "execution_count": null,
      "outputs": [
        {
          "output_type": "stream",
          "name": "stdout",
          "text": [
            "605.28\n",
            "132.27796490723614\n",
            "376\n"
          ]
        }
      ]
    },
    {
      "cell_type": "code",
      "source": [
        "# Statistical summary:\n",
        "print(wine['WinterRain'].describe())"
      ],
      "metadata": {
        "colab": {
          "base_uri": "https://localhost:8080/"
        },
        "id": "BndzGrbVUM6S",
        "outputId": "e865fda1-f5fc-4bc6-c4e6-b9cc36d084e2"
      },
      "execution_count": null,
      "outputs": [
        {
          "output_type": "stream",
          "name": "stdout",
          "text": [
            "count     25.000000\n",
            "mean     605.280000\n",
            "std      132.277965\n",
            "min      376.000000\n",
            "25%      536.000000\n",
            "50%      600.000000\n",
            "75%      697.000000\n",
            "max      830.000000\n",
            "Name: WinterRain, dtype: float64\n"
          ]
        }
      ]
    },
    {
      "cell_type": "code",
      "source": [
        "# In one year, there was only 376 mm of winter rain - which year?\n",
        "print(wine['Year'][wine['WinterRain'].idxmin()])\n",
        "\n",
        "# In another year there was 830 mm of winter rain - which year?\n",
        "print(wine['Year'][wine['WinterRain'].idxmax()])"
      ],
      "metadata": {
        "colab": {
          "base_uri": "https://localhost:8080/"
        },
        "id": "CU1q9xEZUEQE",
        "outputId": "9b07b4ad-4c91-4d5d-f39b-b3c6e00036bf"
      },
      "execution_count": null,
      "outputs": [
        {
          "output_type": "stream",
          "name": "stdout",
          "text": [
            "1973\n",
            "1961\n"
          ]
        }
      ]
    },
    {
      "cell_type": "code",
      "source": [
        "# Sorted vector of WinterRain:\n",
        "print(wine['WinterRain'].sort_values()[:5])\n",
        "\n",
        "# Sorted vector of WinterRain in descending order:\n",
        "print(wine['WinterRain'].sort_values(ascending=False)[:5])"
      ],
      "metadata": {
        "colab": {
          "base_uri": "https://localhost:8080/"
        },
        "id": "1wSjlak8UFKu",
        "outputId": "9fd4a89d-3138-4732-9aa2-5c3e389cecf1"
      },
      "execution_count": null,
      "outputs": [
        {
          "output_type": "stream",
          "name": "stdout",
          "text": [
            "19    376\n",
            "10    402\n",
            "22    418\n",
            "3     420\n",
            "5     485\n",
            "Name: WinterRain, dtype: int64\n",
            "7     830\n",
            "23    821\n",
            "12    819\n",
            "6     763\n",
            "24    763\n",
            "Name: WinterRain, dtype: int64\n"
          ]
        }
      ]
    },
    {
      "cell_type": "markdown",
      "source": [
        "We want to build a linear regression equation. Is there a linear relationship between WinterRain and Price? Let's take a look\n"
      ],
      "metadata": {
        "id": "5QgpiI5PZtAg"
      }
    },
    {
      "cell_type": "code",
      "source": [
        "import matplotlib.pyplot as plt\n",
        "# Scatter plot: WinterRain vs. Price\n",
        "plt.scatter(wine['WinterRain'], wine['Price'])\n",
        "plt.xlabel('WinterRain')\n",
        "plt.ylabel('Price')\n",
        "plt.title('WinterRain vs. Price')\n",
        "plt.show()"
      ],
      "metadata": {
        "colab": {
          "base_uri": "https://localhost:8080/",
          "height": 472
        },
        "id": "HMLH5nYXUJHx",
        "outputId": "b6493075-33d8-4635-db70-77ec9f021688"
      },
      "execution_count": null,
      "outputs": [
        {
          "output_type": "display_data",
          "data": {
            "text/plain": [
              "<Figure size 640x480 with 1 Axes>"
            ],
            "image/png": "[encoded data removed]"
          },
          "metadata": {}
        }
      ]
    },
    {
      "cell_type": "markdown",
      "source": [
        "How about AGST (Average growing season temperature) and Price?"
      ],
      "metadata": {
        "id": "SDuilTf4Z0Ak"
      }
    },
    {
      "cell_type": "code",
      "source": [
        "# Scatter plot: AGST vs. Price\n",
        "plt.scatter(wine['AGST'], wine['Price'])\n",
        "plt.xlabel('AGST')\n",
        "plt.ylabel('Price')\n",
        "plt.title('AGST vs. Price')\n",
        "plt.show()"
      ],
      "metadata": {
        "colab": {
          "base_uri": "https://localhost:8080/",
          "height": 472
        },
        "id": "PKuUfyjpUQLt",
        "outputId": "ff2d4187-c369-4e3d-d66b-857e442c014f"
      },
      "execution_count": null,
      "outputs": [
        {
          "output_type": "display_data",
          "data": {
            "text/plain": [
              "<Figure size 640x480 with 1 Axes>"
            ],
            "image/png": "[encoded data removed]"
          },
          "metadata": {}
        }
      ]
    },
    {
      "cell_type": "markdown",
      "source": [
        "It looks like high AGST => higher price. Not always though...let's look at the cases where the AGST is higher than average, but the price is lower than average.\n"
      ],
      "metadata": {
        "id": "CZF0nKtTZ28R"
      }
    },
    {
      "cell_type": "code",
      "source": [
        "# Identify outliers:\n",
        "mean_agst = wine['AGST'].mean()\n",
        "mean_price = wine['Price'].mean()\n",
        "Outliers = wine[(wine['AGST'] >= mean_agst) & (wine['Price'] <= mean_price)]\n",
        "print(Outliers.head())"
      ],
      "metadata": {
        "colab": {
          "base_uri": "https://localhost:8080/"
        },
        "id": "sj1KumtdUUkp",
        "outputId": "24b1671f-7fd6-47a0-86ed-ee6631b59acc"
      },
      "execution_count": null,
      "outputs": [
        {
          "output_type": "stream",
          "name": "stdout",
          "text": [
            "    Year   Price  WinterRain     AGST  HarvestRain  Age\n",
            "15  1969  6.3459         575  16.5500          244   14\n",
            "19  1973  6.6367         376  17.0667          123   10\n"
          ]
        }
      ]
    },
    {
      "cell_type": "code",
      "source": [
        "# Save outliers to a CSV file:\n",
        "Outliers.to_csv(\"Outliers.csv\", index=False)"
      ],
      "metadata": {
        "id": "AdeKXgomUVLM"
      },
      "execution_count": null,
      "outputs": []
    },
    {
      "cell_type": "code",
      "source": [
        "# Histogram of the HarvestRain\n",
        "plt.hist(wine['HarvestRain'], bins=10, edgecolor='k')\n",
        "plt.xlabel('HarvestRain')\n",
        "plt.ylabel('Frequency')\n",
        "plt.title('Histogram of HarvestRain')\n",
        "plt.show()"
      ],
      "metadata": {
        "colab": {
          "base_uri": "https://localhost:8080/",
          "height": 472
        },
        "id": "ejSpncxZUYrZ",
        "outputId": "d0f014ab-091b-4822-f651-8b2dd6eb137e"
      },
      "execution_count": null,
      "outputs": [
        {
          "output_type": "display_data",
          "data": {
            "text/plain": [
              "<Figure size 640x480 with 1 Axes>"
            ],
            "image/png": "[encoded data removed]"
          },
          "metadata": {}
        }
      ]
    },
    {
      "cell_type": "code",
      "source": [
        "# Boxplot of Price\n",
        "plt.boxplot(wine['Price'])\n",
        "plt.ylabel('Price')\n",
        "plt.title('Boxplot of Wine Price')\n",
        "plt.show()"
      ],
      "metadata": {
        "colab": {
          "base_uri": "https://localhost:8080/",
          "height": 452
        },
        "id": "3_yWFZhfUZg1",
        "outputId": "de5d1410-664c-4ff9-ea83-8b7d9031810d"
      },
      "execution_count": null,
      "outputs": [
        {
          "output_type": "display_data",
          "data": {
            "text/plain": [
              "<Figure size 640x480 with 1 Axes>"
            ],
            "image/png": "[encoded data removed]"
          },
          "metadata": {}
        }
      ]
    },
    {
      "cell_type": "code",
      "source": [
        "# LINEAR REGRESSION\n",
        "import statsmodels.api as sm\n",
        "# Define independent variables and dependent variable:\n",
        "x = wine[['AGST', 'WinterRain', 'HarvestRain', 'Age']]\n",
        "y = wine['Price']\n",
        "x = sm.add_constant(x)  # Add a constant term for the intercept\n",
        "\n",
        "# Fit the linear regression model:\n",
        "LinearRegModel = sm.OLS(y, x).fit()"
      ],
      "metadata": {
        "id": "221O6nAjUaBy"
      },
      "execution_count": null,
      "outputs": []
    },
    {
      "cell_type": "code",
      "source": [
        "# Summary of the regression model:\n",
        "print(LinearRegModel.summary())\n",
        "\n",
        "# Check for multicollinearity:\n",
        "print(wine.corr())"
      ],
      "metadata": {
        "colab": {
          "base_uri": "https://localhost:8080/"
        },
        "id": "U3uf0b3DUfFm",
        "outputId": "6b31a40e-7361-49e2-dd55-7fcbacadba04"
      },
      "execution_count": null,
      "outputs": [
        {
          "output_type": "stream",
          "name": "stdout",
          "text": [
            "                            OLS Regression Results                            \n",
            "==============================================================================\n",
            "Dep. Variable:                  Price   R-squared:                       0.829\n",
            "Model:                            OLS   Adj. R-squared:                  0.794\n",
            "Method:                 Least Squares   F-statistic:                     24.17\n",
            "Date:                Wed, 11 Dec 2024   Prob (F-statistic):           2.04e-07\n",
            "Time:                        15:24:26   Log-Likelihood:                -2.1622\n",
            "No. Observations:                  25   AIC:                             14.32\n",
            "Df Residuals:                      20   BIC:                             20.42\n",
            "Df Model:                           4                                         \n",
            "Covariance Type:            nonrobust                                         \n",
            "===============================================================================\n",
            "                  coef    std err          t      P>|t|      [0.025      0.975]\n",
            "-------------------------------------------------------------------------------\n",
            "const          -3.4300      1.766     -1.942      0.066      -7.114       0.254\n",
            "AGST            0.6072      0.099      6.152      0.000       0.401       0.813\n",
            "WinterRain      0.0011      0.001      2.120      0.047    1.73e-05       0.002\n",
            "HarvestRain    -0.0040      0.001     -4.652      0.000      -0.006      -0.002\n",
            "Age             0.0239      0.008      2.956      0.008       0.007       0.041\n",
            "==============================================================================\n",
            "Omnibus:                        1.814   Durbin-Watson:                   2.797\n",
            "Prob(Omnibus):                  0.404   Jarque-Bera (JB):                1.041\n",
            "Skew:                           0.034   Prob(JB):                        0.594\n",
            "Kurtosis:                       2.003   Cond. No.                     1.91e+04\n",
            "==============================================================================\n",
            "\n",
            "Notes:\n",
            "[1] Standard Errors assume that the covariance matrix of the errors is correctly specified.\n",
            "[2] The condition number is large, 1.91e+04. This might indicate that there are\n",
            "strong multicollinearity or other numerical problems.\n",
            "                 Year     Price  WinterRain      AGST  HarvestRain       Age\n",
            "Year         1.000000 -0.447768    0.016970 -0.246916     0.028009 -1.000000\n",
            "Price       -0.447768  1.000000    0.136651  0.659563    -0.563322  0.447768\n",
            "WinterRain   0.016970  0.136651    1.000000 -0.321091    -0.275441 -0.016970\n",
            "AGST        -0.246916  0.659563   -0.321091  1.000000    -0.064496  0.246916\n",
            "HarvestRain  0.028009 -0.563322   -0.275441 -0.064496     1.000000 -0.028009\n",
            "Age         -1.000000  0.447768   -0.016970  0.246916    -0.028009  1.000000\n"
          ]
        }
      ]
    },
    {
      "cell_type": "markdown",
      "source": [
        "## **How can we interpret these outputs?**\n",
        "- Coefficients: In linear regression, the coefficients are unknown constants that represent the intercept and ???regression\" terms in the linear model.\n",
        "\n",
        "\n",
        "- Coefficient - Estimate: The beta coefficients of the model including the intercept and the regression terms\n",
        "\n",
        "\n",
        "- Coefficient - Standard Error: The coefficient Standard Error measures the average amount that the coefficient estimates vary from the actual average value of our response variable. We ideally want a lower number relative to its coefficients. The Standard Error can be used to compute an estimate of the expected difference in case we ran the model again and again.\n",
        "\n",
        "\n",
        "- Coefficient - t value: The coefficient t-value is a measure of how many standard deviations our coefficient estimate is far away from 0. We want it to be far away from zero as this would indicate we could reject the null hypothesis - that is, we could declare a relationship between price and the rest of the covariates exist. In our example, the t-values are also used to compute p-values.\n",
        "\n",
        "\n",
        "- Coefficient - Pr(>t): The Pr(>t) acronym found in the model output relates to the probability of observing any value equal or larger than t. A small p-value indicates that it is unlikely we will observe a relationship between the predictor and response variables due to chance. Typically, a p-value of 5% or less is a good cut-off point. Note the ???signif. Codes??? associated to each estimate. Three stars (or asterisks) represent a highly significant p-value.\n",
        "\n",
        "- The R^2 statistic: The R-squared (R^2) statistic provides a measure of how well the model is fitting the actual data. It takes the form of a proportion of variance. R^2 is a measure of the linear relationship between our predictor variable and our response / target variable. It always lies between 0 and 1 (i.e.: a number near 0 represents a regression that does not explain the variance in the response variable well and a number close to 1 does explain the observed variance in the response variable).\n"
      ],
      "metadata": {
        "id": "W6cduFQcaAlx"
      }
    },
    {
      "cell_type": "code",
      "source": [
        "# Let's see how well our model does at predicting new data.\n",
        "wineTest = pd.read_csv(\"wineTest.csv\")\n",
        "print(wineTest.info())\n",
        "\n",
        "# Make predictions using the model:\n",
        "predictTest = LinearRegModel.predict(sm.add_constant(wineTest[['AGST', 'WinterRain', 'HarvestRain', 'Age']]))"
      ],
      "metadata": {
        "colab": {
          "base_uri": "https://localhost:8080/"
        },
        "id": "KizcWk57Ukb1",
        "outputId": "044ae844-eda5-4fd3-865e-a45b775aafa1"
      },
      "execution_count": null,
      "outputs": [
        {
          "output_type": "stream",
          "name": "stdout",
          "text": [
            "<class 'pandas.core.frame.DataFrame'>\n",
            "RangeIndex: 2 entries, 0 to 1\n",
            "Data columns (total 6 columns):\n",
            " #   Column       Non-Null Count  Dtype  \n",
            "---  ------       --------------  -----  \n",
            " 0   Year         2 non-null      int64  \n",
            " 1   Price        2 non-null      float64\n",
            " 2   WinterRain   2 non-null      int64  \n",
            " 3   AGST         2 non-null      float64\n",
            " 4   HarvestRain  2 non-null      int64  \n",
            " 5   Age          2 non-null      int64  \n",
            "dtypes: float64(2), int64(4)\n",
            "memory usage: 224.0 bytes\n",
            "None\n"
          ]
        }
      ]
    },
    {
      "cell_type": "code",
      "source": [
        "import numpy as np\n",
        "# Compute R-squared on the test set:\n",
        "SSE = np.sum((predictTest - wineTest['Price'])**2)\n",
        "SST = np.sum((wine['Price'].mean() - wineTest['Price'])**2)\n",
        "r2 = 1 - SSE / SST\n",
        "print(r2)"
      ],
      "metadata": {
        "colab": {
          "base_uri": "https://localhost:8080/"
        },
        "id": "xWDum7lVUlL4",
        "outputId": "9e5a6df2-de80-47f0-f302-9d3e26c98813"
      },
      "execution_count": null,
      "outputs": [
        {
          "output_type": "stream",
          "name": "stdout",
          "text": [
            "0.7944277602631844\n"
          ]
        }
      ]
    },
    {
      "cell_type": "code",
      "source": [],
      "metadata": {
        "id": "hTPZ27FeUofF"
      },
      "execution_count": null,
      "outputs": []
    }
  ]
}